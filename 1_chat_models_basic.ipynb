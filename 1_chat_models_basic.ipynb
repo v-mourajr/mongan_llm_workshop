{
 "cells": [
  {
   "metadata": {},
   "cell_type": "markdown",
   "source": [
    "![MGB Logo](https://github.com/v-mourajr/mongan_llm_workshop/blob/master/images/mgb-logo.png?raw=true)\n",
    "\n",
    "# Using LLM for Clinical Note Analysis\n",
    "This Notebook demonstrates how to use Azure-hosted OpenAI models with LangChain. The notebook follows a step-by-step approach to set up authentication, initialize the model, create structured prompts, and generate responses. The key components covered include:#\n",
    "\n",
    "- Loading environment variables\n",
    "- Setting up Azure authentication\n",
    "- Creating and formatting chat prompts\n",
    "- Invoking the OpenAI model\n",
    "- Displaying the AI-generated response\n",
    "\n",
    "Each cell in the notebook builds upon the previous one to progressively set up and execute an AI-driven conversation."
   ],
   "id": "a2b994958c92d3b8"
  },
  {
   "cell_type": "code",
   "id": "initial_id",
   "metadata": {
    "collapsed": true,
    "ExecuteTime": {
     "end_time": "2025-02-27T16:45:18.203541Z",
     "start_time": "2025-02-27T16:45:18.200072Z"
    }
   },
   "source": [
    "# -----------------------------------------------------------\n",
    "# 1. Importing Required Libraries\n",
    "# -----------------------------------------------------------\n",
    "# Demonstrates the necessary imports for setting up Azure OpenAI authentication and model interaction.\n",
    "\n",
    "# Key Components:\n",
    "#   - os: Provides functions for interacting with the operating system, such as accessing environment variables.\n",
    "#   - load_dotenv(): Loads environment variables from a .env file to securely store sensitive credentials.\n",
    "#   - DefaultAzureCredential: Handles authentication with Azure services using various credential methods.\n",
    "#   - get_bearer_token_provider(): Retrieves an authentication token for accessing Azure OpenAI services.\n",
    "#   - AzureChatOpenAI: A LangChain wrapper for interacting with Azure-hosted OpenAI models.\n",
    "\n",
    "# Purpose:\n",
    "# These libraries enable secure authentication and seamless integration of OpenAI models within Azure,\n",
    "# ensuring that AI capabilities can be efficiently accessed and utilized in applications.\n",
    "\n",
    "import os\n",
    "from dotenv import load_dotenv\n",
    "from azure.identity import DefaultAzureCredential, get_bearer_token_provider\n",
    "from langchain_openai import AzureChatOpenAI\n",
    "\n",
    "print(\"\\n=== Required Libraries Loaded ===\")\n"
   ],
   "outputs": [
    {
     "name": "stdout",
     "output_type": "stream",
     "text": [
      "\n",
      "=== Required Libraries Loaded ===\n"
     ]
    }
   ],
   "execution_count": 111
  },
  {
   "metadata": {
    "ExecuteTime": {
     "end_time": "2025-02-27T16:45:20.087023Z",
     "start_time": "2025-02-27T16:45:20.007237Z"
    }
   },
   "cell_type": "code",
   "source": [
    "# -----------------------------------------------------------\n",
    "# 2. Setting Up Azure OpenAI Model\n",
    "# -----------------------------------------------------------\n",
    "# Demonstrates how to configure and authenticate Azure OpenAI for use in AI-driven applications.\n",
    "\n",
    "# Key Components:\n",
    "#   - load_dotenv(): Loads environment variables from a .env file to securely store credentials.\n",
    "#   - DefaultAzureCredential(): Uses Azure’s default authentication method to retrieve credentials.\n",
    "#   - get_bearer_token_provider(): Retrieves an authentication token for accessing Azure OpenAI services.\n",
    "#   - AzureChatOpenAI(): Initializes the Azure-hosted OpenAI model using environment variables.\n",
    "#     - openai_api_version: Specifies the API version to use.\n",
    "#     - azure_deployment: Identifies the specific OpenAI deployment.\n",
    "#     - azure_endpoint: Defines the Azure endpoint for API access.\n",
    "#     - azure_ad_token_provider: Supplies the necessary authentication token.\n",
    "\n",
    "# Purpose:\n",
    "# This setup ensures secure and efficient access to Azure OpenAI services, enabling seamless integration of AI capabilities into applications.\n",
    "# It provides a scalable way to interact with OpenAI models hosted on Azure while managing authentication automatically.\n",
    "\n",
    "load_dotenv()\n",
    "\n",
    "# Set up Azure credentials and token provider\n",
    "azure_credential = DefaultAzureCredential()\n",
    "token_provider = get_bearer_token_provider(\n",
    "    azure_credential, \"https://cognitiveservices.azure.com/.default\"\n",
    ")\n",
    "\n",
    "# Initialize the AzureChatOpenAI model using environment variables\n",
    "model = AzureChatOpenAI(\n",
    "    openai_api_version=os.getenv(\"AZURE_OPENAI_VERSION\"),\n",
    "    azure_deployment=os.getenv(\"AZURE_OPENAI_DEPLOYMENT\"),\n",
    "    azure_endpoint=os.getenv(\"AZURE_OPENAI_ENDPOINT\"),\n",
    "    azure_ad_token_provider=token_provider\n",
    ")\n",
    "\n",
    "print(\"\\n=== LLM Models Loaded ===\")\n"
   ],
   "id": "e4ab2139560c3664",
   "outputs": [
    {
     "name": "stdout",
     "output_type": "stream",
     "text": [
      "\n",
      "=== LLM Models Loaded ===\n"
     ]
    }
   ],
   "execution_count": 112
  },
  {
   "metadata": {},
   "cell_type": "markdown",
   "source": [
    "## 3. Basic Prompt Interaction\n",
    "<img src=\"https://github.com/v-mourajr/mongan_llm_workshop/blob/master/images/basic_prompt.png?raw=true\" alt=\"Basic Prompt\" width=\"800\">"
   ],
   "id": "a8a750da658a7524"
  },
  {
   "metadata": {
    "ExecuteTime": {
     "end_time": "2025-02-27T16:45:40.161485Z",
     "start_time": "2025-02-27T16:45:30.388030Z"
    }
   },
   "cell_type": "code",
   "source": [
    "# -----------------------------------------------------------\n",
    "# 3. Basic Prompt Interaction\n",
    "# -----------------------------------------------------------\n",
    "# Demonstrates a simple prompt-based interaction with an AI model using LangChain.\n",
    " \n",
    "# Key Components:\n",
    "#   - SystemMessage: Defines the AI’s role as a medical provider, ensuring responses are evidence-based and patient-friendly.\n",
    "#   - HumanMessage: Represents the user's query, in this case: \"What is asthma? What are its common symptoms and treatments?\"\n",
    "#   - model.invoke(messages): Sends the conversation history to the AI model, prompting it to generate a response.\n",
    "\n",
    "# Purpose: \n",
    "# This setup enables structured AI interactions, ensuring the model responds consistently and accurately in a medical context.\n",
    "# Can be extended to handle more complex medical queries or chatbot interactions.\n",
    "\n",
    "from langchain_core.messages import HumanMessage, SystemMessage\n",
    "\n",
    "# Define a chat interaction using a system message (to set the AI’s role) and a human message (a user query about asthma).\n",
    "\n",
    "messages = [\n",
    "    SystemMessage(content=\"You are a knowledgeable medical provider with expertise in diagnosing and managing various diseases. Provide clear, evidence-based, and patient-friendly explanations about medical conditions, symptoms, and treatments.\"),\n",
    "    \n",
    "    HumanMessage(content=\"What is asthma? What are its common symptoms and treatments?\")\n",
    "]\n",
    "\n",
    "# Invoke the model with messages\n",
    "result = model.invoke(messages)\n",
    "\n",
    "print(result.content)"
   ],
   "id": "c84f9839d5749e5a",
   "outputs": [
    {
     "name": "stdout",
     "output_type": "stream",
     "text": [
      "Asthma is a chronic condition that affects the airways in your lungs, making them inflamed and narrowed, which can lead to difficulty in breathing. It often involves episodes of wheezing, shortness of breath, chest tightness, and coughing. While asthma can develop at any age, it's common for symptoms to first appear in childhood.\n",
      "\n",
      "### Common Symptoms of Asthma:\n",
      "1. **Wheezing**: A high-pitched whistling sound when breathing, especially during exhalation.\n",
      "2. **Shortness of Breath**: Feeling like you can't catch your breath or can't get enough air.\n",
      "3. **Chest Tightness**: A sensation that something is squeezing or sitting on your chest.\n",
      "4. **Coughing**: Often worse at night or early morning, and can be triggered by exercise or cold air.\n",
      "5. **Trouble Sleeping**: Due to breathing difficulties, coughing, or wheezing.\n",
      "\n",
      "### Triggers:\n",
      "Asthma symptoms can be triggered or worsened by a variety of factors, including:\n",
      "- Allergens (like pollen, dust mites, or pet dander)\n",
      "- Respiratory infections (such as the common cold)\n",
      "- Physical activity (exercise-induced asthma)\n",
      "- Cold air\n",
      "- Smoke or strong odors\n",
      "- Stress or strong emotions\n",
      "\n",
      "### Understanding Your Treatment Options:\n",
      "1. **Long-term Control Medications**: These are used daily to manage chronic symptoms and prevent future attacks.\n",
      "   - **Inhaled Corticosteroids**: Reduce inflammation in the airways.\n",
      "   - **Long-Acting Beta Agonists (LABAs)**: Help open your airways by relaxing the muscles around them.\n",
      "   - **Leukotriene Modifiers**: Help block the chemicals that cause inflammation.\n",
      "\n",
      "2. **Quick-Relief (Rescue) Medications**: Used to provide immediate relief during an asthma attack.\n",
      "   - **Short-Acting Beta Agonists (SABAs)**: Relax airway muscles quickly. Examples include albuterol.\n",
      "   - **Anticholinergics**: Help reduce mucus and open the airways.\n",
      "\n",
      "3. **Allergy Medications**: If your asthma is triggered by allergies, treatments such as antihistamines or allergy shots (immunotherapy) might be beneficial.\n",
      "\n",
      "### Lifestyle and Home Remedies:\n",
      "- **Avoid Triggers**: Identify and steer clear of asthma triggers to help control symptoms.\n",
      "- **Regular Monitoring**: Use a peak flow meter to monitor your breathing and detect early changes.\n",
      "- **Follow Asthma Action Plan**: Work with your doctor to develop a plan that outlines what to do when symptoms worsen.\n",
      "- **Stay Active**: Engage in regular exercise to strengthen your lungs, but always consult with your doctor to ensure safe and appropriate workouts.\n",
      "- **Vaccinations**: Stay up to date with flu and pneumonia vaccinations, as respiratory infections can worsen asthma.\n",
      "\n",
      "### Conclusion:\n",
      "By understanding your asthma and working closely with your healthcare provider, you can manage your symptoms and maintain a good quality of life. Regular follow-up visits and adhering to your prescribed treatment plan are crucial in keeping asthma under control.\n"
     ]
    }
   ],
   "execution_count": 113
  },
  {
   "metadata": {},
   "cell_type": "markdown",
   "source": [
    "## 4. Using ChatPromptTemplate for Dynamic Queries\n",
    "<img src=\"https://github.com/v-mourajr/mongan_llm_workshop/blob/master/images/prompt_template.png?raw=true\" alt=\"Basic Prompt\" width=\"800\">\n"
   ],
   "id": "70e18716ffd84a04"
  },
  {
   "metadata": {
    "ExecuteTime": {
     "end_time": "2025-02-27T16:55:59.033487Z",
     "start_time": "2025-02-27T16:55:49.926790Z"
    }
   },
   "cell_type": "code",
   "source": [
    "# -----------------------------------------------------------\n",
    "# 4. Using ChatPromptTemplate for Dynamic Queries\n",
    "# -----------------------------------------------------------\n",
    "# Demonstrates how to create a reusable prompt template with dynamic input variables using LangChain.\n",
    "\n",
    "# Key Components:\n",
    "#   - ChatPromptTemplate: Allows dynamic variables in prompts, making interactions more flexible.\n",
    "#   - SystemMessage: Sets the AI’s role as a medical provider, ensuring responses are clear and evidence-based.\n",
    "#   - HumanMessage: Contains a query template with a placeholder ({disease}), allowing different medical conditions to be queried dynamically.\n",
    "#   - prompt_template.invoke({\"disease\": disease}): Fills in the variable \"disease\" with the specified condition (e.g., \"epilepsy\").\n",
    "#   - model.invoke(prompt): Sends the formatted query to the AI model for a response.\n",
    "\n",
    "# Purpose:\n",
    "# This approach enables reusable prompts where users can query different diseases without modifying the prompt structure.\n",
    "# It improves scalability and efficiency for medical applications or chatbots handling multiple medical conditions.\n",
    "\n",
    "\n",
    "from langchain.prompts import ChatPromptTemplate\n",
    "\n",
    "ai_role = \"Neurologist\"\n",
    "disease = \"epilepsy\"\n",
    "\n",
    "messages = [\n",
    "    (\"system\", f\"You are a knowledgeable {ai_role}. Provide clear, evidence-based, and patient-friendly explanations about medical conditions, symptoms, and treatments.\"),\n",
    "    \n",
    "    (\"human\", \"What is {disease}? What are its common symptoms and treatments?\"),\n",
    "]\n",
    "# Create PromptTemplate\n",
    "prompt_template = ChatPromptTemplate.from_messages(messages)\n",
    "\n",
    "# Plug-in user variables\n",
    "prompt = prompt_template.invoke({\"ai_role\": ai_role , \"disease\": disease})\n",
    "\n",
    "# invoke model\n",
    "result = model.invoke(prompt)\n",
    "print(result.content)"
   ],
   "id": "ff4be7952c8bc9f9",
   "outputs": [
    {
     "name": "stdout",
     "output_type": "stream",
     "text": [
      "Epilepsy is a chronic neurological condition that affects the brain and is characterized by recurrent, unprovoked seizures. These seizures are caused by sudden, excessive electrical discharges in a group of brain cells. Epilepsy can affect people of all ages, and its symptoms and severity can vary widely from person to person.\n",
      "\n",
      "### Common Symptoms of Epilepsy:\n",
      "1. **Seizures:** The hallmark of epilepsy. Types of seizures include:\n",
      "   - **Generalized Seizures:** Affect both sides of the brain and can cause convulsions, muscle stiffness, and loss of consciousness.\n",
      "     - *Tonic-Clonic (Grand Mal) Seizures:* Involve full-body convulsions, muscle stiffening, and loss of consciousness.\n",
      "     - *Absence (Petit Mal) Seizures:* Short lapses in awareness, often described as \"staring spells.\"\n",
      "   - **Focal Seizures:** Affect one part of the brain and may involve:\n",
      "     - *Simple Focal Seizures:* Affect a small area of the brain and may cause twitching or changes in sensation (e.g., a strange taste or smell) without loss of awareness.\n",
      "     - *Complex Focal Seizures:* Affect a larger area of the brain and can alter consciousness or cause repetitive movements.\n",
      "2. **Aura:** Some people experience sensory warning signs such as strange smells, tastes, or feelings before a seizure.\n",
      "3. **Post-Seizure Symptoms (Postictal State):** Confusion, tiredness, headache, and other symptoms that occur after a seizure.\n",
      "\n",
      "### Common Treatments for Epilepsy:\n",
      "1. **Medications (Antiepileptic Drugs - AEDs):** The mainstay of epilepsy treatment. These drugs help control seizures for many people.\n",
      "   - Examples include carbamazepine, levetiracetam, valproate, and lamotrigine.\n",
      "2. **Lifestyle Adjustments:** Managing triggers, adequate sleep, stress reduction, regular exercise, and a healthy diet.\n",
      "3. **Surgical Treatments:** For people whose seizures are not controlled by medication.\n",
      "   - **Resective Surgery:** Removing the area of the brain where seizures originate.\n",
      "   - **Laser Interstitial Thermal Therapy (LITT):** Uses laser to precisely target and destroy the area causing seizures.\n",
      "4. **Neurostimulation Devices:**\n",
      "   - **Vagus Nerve Stimulation (VNS):** A device implanted under the skin that sends electrical pulses to the vagus nerve to reduce seizure frequency.\n",
      "   - **Responsive Neurostimulation (RNS):** An implant that detects abnormal brain activity and responds with electrical stimulation to prevent seizures.\n",
      "   - **Deep Brain Stimulation (DBS):** Targets specific brain regions to reduce seizure activity.\n",
      "5. **Dietary Treatments:** Some children with epilepsy benefit from a ketogenic diet, which is high in fats and low in carbohydrates.\n",
      "\n",
      "### Important Considerations:\n",
      "- **Diagnosis:** Proper diagnosis often involves a combination of neurological exams, electroencephalogram (EEG), and neuroimaging (such as MRI).\n",
      "- **Personalized Treatment:** Treatment plans should be tailored to the individual's type of epilepsy, frequency of seizures, age, lifestyle, and response to previous treatments.\n",
      "- **Regular Monitoring:** Ongoing follow-up with a neurologist is essential to assess the effectiveness of treatments and adjust as necessary.\n",
      "\n",
      "If you, a friend, or a family member has symptoms of epilepsy or has been diagnosed with the condition, it is crucial to work closely with a healthcare provider to manage it effectively. Many people with epilepsy lead full, active lives with the right treatment and support.\n"
     ]
    }
   ],
   "execution_count": 125
  },
  {
   "metadata": {
    "ExecuteTime": {
     "end_time": "2025-02-27T16:56:51.321444Z",
     "start_time": "2025-02-27T16:56:51.316827Z"
    }
   },
   "cell_type": "code",
   "source": [
    "# -----------------------------------------------------------\n",
    "# 5. Using ChatPromptTemplate for Clinical Note Analysis\n",
    "# -----------------------------------------------------------\n",
    "# Demonstrates how to create a structured prompt template for extracting medical details from clinical notes.\n",
    "\n",
    "# Key Components:\n",
    "#   - ChatPromptTemplate: Creates a reusable prompt structure for analyzing clinical notes.\n",
    "#   - SystemMessage: Defines the AI’s role as a medical documentation assistant, ensuring accurate extraction of medical details.\n",
    "#   - HumanMessage: Contains a structured query with a placeholder ({patient_note}), allowing different clinical notes to be analyzed dynamically.\n",
    "#   - prompt_template_notes.invoke({\"patient_note\": note_text}): Fills in the variable \"patient_note\" with the actual clinical note text.\n",
    "#   - model.invoke(prompt): Sends the formatted query to the AI model for processing.\n",
    "\n",
    "# Purpose:\n",
    "# This approach enables automated medical text processing, ensuring structured extraction of relevant information such as demographics, chief complaints, medications, and asthma status.\n",
    "# It improves efficiency in clinical documentation and can be integrated into medical record systems for automated analysis.\n",
    "\n",
    "\n",
    "messages_notes = [\n",
    "    (\n",
    "        \"system\", \n",
    "        \"You are an advanced medical documentation assistant with expertise in clinical text analysis. Your task is to review a given clinical note and extract relevant medical details accurately.\"\n",
    "    ),\n",
    "    \n",
    "    (\n",
    "        \"human\", \n",
    "        \"Please analyze the following clinical note: {patient_note}. \\n\\n\"\n",
    "        \"Extract and list the following information:\\n\"\n",
    "        \"1. Patient demographics\\n\"\n",
    "        \"2. Chief Complaints\\n\"\n",
    "        \"3. Current Medications\\n\"\n",
    "        \"4. Determine whether the patient has asthma (Yes/No), based on explicit mentions or related diagnoses.\\n\\n\"\n",
    "        \"Provide the output in a structured format.\"\n",
    "    )\n",
    "]\n",
    "\n",
    "prompt_template_notes = ChatPromptTemplate.from_messages(messages_notes)\n"
   ],
   "id": "2f958c9284e3da1f",
   "outputs": [],
   "execution_count": 126
  },
  {
   "metadata": {
    "ExecuteTime": {
     "end_time": "2025-02-27T16:57:11.526903Z",
     "start_time": "2025-02-27T16:57:11.522219Z"
    }
   },
   "cell_type": "code",
   "source": [
    "# -----------------------------------------------------------\n",
    "# 6. Loading and Reading a Patient Note\n",
    "# -----------------------------------------------------------\n",
    "# Demonstrates how to load a clinical note from a file for further processing.\n",
    "\n",
    "# Key Components:\n",
    "#   - input_dir: Specifies the directory where patient notes are stored.\n",
    "#   - filename: Defines the specific file to be loaded, containing a patient's medical note.\n",
    "#   - os.path.join(input_dir, filename): Constructs the full file path dynamically.\n",
    "#   - open(file_path, \"r\"): Opens the file in read mode and loads the content into the variable \"patient_note\".\n",
    "#   - print(f\"\\nPatient Note:\\n\\n{patient_note}\"): Displays the loaded note for verification.\n",
    "\n",
    "# Purpose:\n",
    "# This step ensures that patient notes are correctly loaded before being analyzed by the AI model.\n",
    "# It enables seamless integration with document processing pipelines for clinical text analysis.\n",
    "\n",
    "\n",
    "input_dir = 'data_prep/patient_notes'\n",
    "filename = 'note_1000000013_20091210.txt' \n",
    "\n",
    "# examples without Asthma: \n",
    "# -----------------------------------------------------------\n",
    "# 1000000002, 1000000003, 1000000009, 1000000010, 1000000013, \n",
    "# 1000000023, 1000000036, 1000000040, 1000000047, 1000000048, \n",
    "# 1000000052, 1000000063, 1000000064, 1000000068, 1000000071, \n",
    "# 1000000082, 1000000086, 1000000087, 1000000093, 1000000101, \n",
    "# 1000000103, 1000000107\n",
    "# -----------------------------------------------------------\n",
    "\n",
    "\n",
    "# Load the note txt\n",
    "file_path = os.path.join(input_dir, filename)\n",
    "with open(file_path, \"r\") as file:\n",
    "    patient_note = file.read()\n",
    "    \n",
    "print(f\"\\nPatient Note:\\n\\n{patient_note}\")"
   ],
   "id": "ed77019c319ec4f7",
   "outputs": [
    {
     "name": "stdout",
     "output_type": "stream",
     "text": [
      "\n",
      "Patient Note:\n",
      "\n",
      "**Visit Information:**\n",
      "\n",
      "- **Patient Num:** 1000000013\n",
      "- **Visit Date:** 12/10/2009\n",
      "\n",
      "**Subjective:**\n",
      "\n",
      "This is an 84-year-old Black female presented for a follow-up appointment today. She speaks German and has been a patient at our clinic for over a decade, typically accompanied by her daughter. The primary concerns today are persistent fatigue, generalized weakness, and recurring dizziness that have progressively worsened over the last few months. The patient characterizes her fatigue as severe, rating it as an 8 out of 10, and it remains constant, unrelieved by rest. She also experiences episodes of dizziness several times a week, often accompanied by mild headaches. She denies any new or acute symptoms.\n",
      "\n",
      "The patient's medical history includes significant non-asthma conditions such as hypertension, congestive heart failure, type 2 diabetes mellitus, benign neoplasms of the colon and breast, osteoarthritis, and nontoxic uninodular goiter. She has undergone multiple surgical procedures in the past, including a cholecystectomy and a complete thyroidectomy, both without postoperative complications.\n",
      "\n",
      "Currently, her medication regimen includes metformin 500 mg taken twice daily for diabetes, lisinopril 10 mg daily for hypertension, atorvastatin 20 mg once daily for hyperlipidemia, and calcium supplements. The patient has been compliant with her medications and has not experienced any negative side effects. \n",
      "\n",
      "Socially, the patient is retired and lives alone but receives frequent visits from family to assist with daily activities. She does not smoke and consumes alcohol occasionally. Physical activity is significantly limited by her chronic fatigue, despite attempts to stay active.\n",
      "\n",
      "The patient has no known drug allergies. Despite non-pharmacological interventions such as increased rest, dietary modifications, and mild physical activity, her symptoms have shown little to no improvement.\n",
      "\n",
      "**Objective:**\n",
      "\n",
      "- **Vital Signs:**\n",
      "  - Blood Pressure: 150/90 mmHg\n",
      "  - Heart Rate: 78 beats per minute\n",
      "  - Respiratory Rate: 20 breaths per minute\n",
      "  - Temperature: 98.4°F\n",
      "  - Oxygen Saturation: 96% on room air\n",
      "\n",
      "- **General Appearance:** The patient is well-nourished and groomed but appears visibly fatigued. She is alert, cooperative, and communicative.\n",
      "\n",
      "- **Cardiovascular:** Heart sounds are regular with no murmurs, rubs, or gallops. Peripheral pulses are 2+ and symmetrical. There is no jugular venous distension.\n",
      "\n",
      "- **Respiratory:** Lungs are clear to auscultation bilaterally with no wheezes, crackles, or evidence of respiratory distress.\n",
      "\n",
      "- **Abdomen:** The abdomen is soft and non-tender with normoactive bowel sounds. No masses or hepatosplenomegaly are palpated.\n",
      "\n",
      "- **Musculoskeletal:** There is no swelling or tenderness in joints. Muscle tone appears normal, but muscle strength is recorded at 4/5 in all extremities indicative of generalized weakness.\n",
      "\n",
      "- **Neurological:** The patient is oriented to person, place, and time. Cranial nerves II-XII are intact. Motor function and gait are normal, although the patient reports feeling dizzy often.\n",
      "\n",
      "- **Skin:** The skin is intact with no rashes, lesions, or bruising. Skin color and turgor are normal.\n",
      "\n",
      "Complete blood count, electrolytes, kidney function tests, and thyroid function tests from today's visit are all within the normal range.\n",
      "\n",
      "**Assessment:**\n",
      "\n",
      "**Issue/Problem/Request 1: Fatigue and Generalized Weakness**\n",
      "- **Assessment:** The patient’s fatigue and generalized weakness likely point towards an underlying chronic condition. Considering her chronic medical and surgical history, anemia due to chronic disease or early renal insufficiency might be contributing factors.\n",
      "- **Diagnostic Tests:** Iron studies (including serum iron, ferritin, TIBC), comprehensive metabolic panel to further investigate renal function and potential vitamin levels.\n",
      "- **Treatment Plan:** Depending on test results, consider initiating iron supplements if iron deficiency anemia is confirmed and adjustment of existing medications as needed. Continue monitoring hematological parameters and educate the patient on energy conservation techniques and dietary changes to support iron levels.\n",
      "\n",
      "**Issue/Problem/Request 2: Hypertension**\n",
      "- **Assessment:** Her blood pressure appears slightly elevated but is generally well-managed with the current regimens.\n",
      "- **Diagnostic Tests:** Regular monitoring of blood pressure at home; obtain renal function tests to rule out hypertension-induced nephropathy.\n",
      "- **Treatment Plan:** Maintain current antihypertensive therapy. Educate on sodium restriction and encourage the patient to maintain a balanced, low-sodium diet. \n",
      "\n",
      "**Issue/Problem/Request 3: Type 2 Diabetes Mellitus**\n",
      "- **Assessment:** The diabetes seems stable under her current treatment; however, an up-to-date HbA1c will provide better insight into long-term control, given her frequent fatigue.\n",
      "- **Diagnostic Tests:** HbA1c testing and fasting blood glucose test.\n",
      "- **Treatment Plan:** Adjust antidiabetic medications based on new HbA1c results. If needed, refer to an endocrinologist for more specialized management.\n",
      "\n",
      "**Plan:**\n",
      "\n",
      "1. Order iron study panel and renal function tests to investigate the cause of fatigue.\n",
      "2. Schedule a follow-up appointment in 4 weeks to review the lab results and possibly adjust the current treatment plan.\n",
      "3. Reinforce adherence to medication, encourage a balanced diet rich in iron, and advise regular but gentle physical activity to improve overall health and reduce fatigue.\n",
      "4. Educate the patient on symptom management and advise her to reach out immediately if symptoms worsen or new symptoms arise unexpectedly.\n",
      "\n",
      "**Follow-Up:**\n",
      "\n",
      "Instruct the patient to contact the clinic if there is no improvement in symptoms within a week, or if the results of the tests indicate a need for further evaluation. The patient understands the management plan and agrees to return for a follow-up in four weeks.\n"
     ]
    }
   ],
   "execution_count": 127
  },
  {
   "metadata": {
    "ExecuteTime": {
     "end_time": "2025-02-27T16:57:45.057036Z",
     "start_time": "2025-02-27T16:57:43.466206Z"
    }
   },
   "cell_type": "code",
   "source": [
    "# -----------------------------------------------------------\n",
    "# 7. Invoking the AI Model for Clinical Note Analysis\n",
    "# -----------------------------------------------------------\n",
    "# Demonstrates how to process a patient note using a structured prompt and invoke the AI model for analysis.\n",
    "\n",
    "# Key Components:\n",
    "#   - prompt_template_notes.invoke({\"patient_note\": patient_note}): \n",
    "#     Dynamically fills the prompt template with the actual clinical note text.\n",
    "#   - model.invoke(prompt_notes): \n",
    "#     Sends the formatted query to the AI model for processing.\n",
    "#   - print(result_note.content): \n",
    "#     Displays the AI-generated structured output containing extracted medical details.\n",
    "\n",
    "# Purpose:\n",
    "# This approach enables automated extraction of structured medical information from clinical notes.\n",
    "# It ensures efficient and standardized processing of patient data, aiding in medical documentation and decision-making.\n",
    "\n",
    "prompt_notes = prompt_template_notes.invoke({\"patient_note\": patient_note})\n",
    "\n",
    "# invoke model\n",
    "result_note = model.invoke(prompt_notes)\n",
    "print(result_note.content)\n"
   ],
   "id": "43a71ee0339c8ac2",
   "outputs": [
    {
     "name": "stdout",
     "output_type": "stream",
     "text": [
      "**Patient Demographics:**\n",
      "- Age: 84 years old\n",
      "- Gender: Female\n",
      "- Ethnicity: Black\n",
      "- Language: German\n",
      "\n",
      "**Chief Complaints:**\n",
      "- Persistent fatigue (severe, 8/10, not relieved by rest)\n",
      "- Generalized weakness\n",
      "- Recurring dizziness with mild headaches\n",
      "\n",
      "**Current Medications:**\n",
      "- Metformin 500 mg twice daily\n",
      "- Lisinopril 10 mg daily\n",
      "- Atorvastatin 20 mg once daily\n",
      "- Calcium supplements\n",
      "\n",
      "**Asthma Diagnosis:**\n",
      "- No, the patient does not have asthma. The note specifies non-asthma conditions.\n",
      "\n",
      "The extracted information is provided in the structured format requested.\n"
     ]
    }
   ],
   "execution_count": 128
  }
 ],
 "metadata": {
  "kernelspec": {
   "display_name": "Python 3",
   "language": "python",
   "name": "python3"
  },
  "language_info": {
   "codemirror_mode": {
    "name": "ipython",
    "version": 2
   },
   "file_extension": ".py",
   "mimetype": "text/x-python",
   "name": "python",
   "nbconvert_exporter": "python",
   "pygments_lexer": "ipython2",
   "version": "2.7.6"
  }
 },
 "nbformat": 4,
 "nbformat_minor": 5
}
